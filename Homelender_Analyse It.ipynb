{
 "cells": [
  {
   "cell_type": "code",
   "execution_count": 145,
   "metadata": {},
   "outputs": [],
   "source": [
    "import pandas as pd\n",
    "import matplotlib.pyplot as plt\n",
    "import seaborn as sns\n",
    "import numpy as np\n",
    "from scipy.stats import norm\n",
    "from sklearn.preprocessing import StandardScaler\n",
    "from scipy import stats\n",
    "import warnings\n",
    "warnings.filterwarnings('ignore')\n",
    "import matplotlib.pyplot as plt\n",
    "%matplotlib inline"
   ]
  },
  {
   "cell_type": "code",
   "execution_count": 146,
   "metadata": {},
   "outputs": [],
   "source": [
    "df_train=pd.read_csv('development_dataset.csv')"
   ]
  },
  {
   "cell_type": "code",
   "execution_count": 147,
   "metadata": {},
   "outputs": [
    {
     "data": {
      "text/html": [
       "<div>\n",
       "<style scoped>\n",
       "    .dataframe tbody tr th:only-of-type {\n",
       "        vertical-align: middle;\n",
       "    }\n",
       "\n",
       "    .dataframe tbody tr th {\n",
       "        vertical-align: top;\n",
       "    }\n",
       "\n",
       "    .dataframe thead th {\n",
       "        text-align: right;\n",
       "    }\n",
       "</style>\n",
       "<table border=\"1\" class=\"dataframe\">\n",
       "  <thead>\n",
       "    <tr style=\"text-align: right;\">\n",
       "      <th></th>\n",
       "      <th>VAR1</th>\n",
       "      <th>VAR2</th>\n",
       "      <th>VAR3</th>\n",
       "      <th>VAR4</th>\n",
       "      <th>VAR5</th>\n",
       "      <th>VAR6</th>\n",
       "      <th>VAR7</th>\n",
       "      <th>VAR8</th>\n",
       "      <th>VAR9</th>\n",
       "      <th>VAR10</th>\n",
       "      <th>...</th>\n",
       "      <th>VAR12</th>\n",
       "      <th>VAR13</th>\n",
       "      <th>VAR14</th>\n",
       "      <th>VAR15</th>\n",
       "      <th>VAR16</th>\n",
       "      <th>VAR17</th>\n",
       "      <th>VAR18</th>\n",
       "      <th>VAR19</th>\n",
       "      <th>VAR20</th>\n",
       "      <th>VAR21</th>\n",
       "    </tr>\n",
       "  </thead>\n",
       "  <tbody>\n",
       "    <tr>\n",
       "      <th>0</th>\n",
       "      <td>1</td>\n",
       "      <td>828.235294</td>\n",
       "      <td>0.138889</td>\n",
       "      <td>321.428571</td>\n",
       "      <td>625.911006</td>\n",
       "      <td>1.818182</td>\n",
       "      <td>1.081550</td>\n",
       "      <td>198.113469</td>\n",
       "      <td>NaN</td>\n",
       "      <td>58.632548</td>\n",
       "      <td>...</td>\n",
       "      <td>100.083403</td>\n",
       "      <td>1.0</td>\n",
       "      <td>1</td>\n",
       "      <td>1.0</td>\n",
       "      <td>1.540594</td>\n",
       "      <td>NaN</td>\n",
       "      <td>1</td>\n",
       "      <td>0</td>\n",
       "      <td>100.104991</td>\n",
       "      <td>Low</td>\n",
       "    </tr>\n",
       "    <tr>\n",
       "      <th>1</th>\n",
       "      <td>2</td>\n",
       "      <td>911.764706</td>\n",
       "      <td>0.027778</td>\n",
       "      <td>NaN</td>\n",
       "      <td>611.574748</td>\n",
       "      <td>8.181818</td>\n",
       "      <td>1.344479</td>\n",
       "      <td>198.600020</td>\n",
       "      <td>22.086661</td>\n",
       "      <td>NaN</td>\n",
       "      <td>...</td>\n",
       "      <td>15.012510</td>\n",
       "      <td>NaN</td>\n",
       "      <td>1</td>\n",
       "      <td>NaN</td>\n",
       "      <td>1.614613</td>\n",
       "      <td>NaN</td>\n",
       "      <td>0</td>\n",
       "      <td>1</td>\n",
       "      <td>146.654045</td>\n",
       "      <td>High</td>\n",
       "    </tr>\n",
       "    <tr>\n",
       "      <th>2</th>\n",
       "      <td>3</td>\n",
       "      <td>962.352941</td>\n",
       "      <td>0.833333</td>\n",
       "      <td>35.714286</td>\n",
       "      <td>615.825381</td>\n",
       "      <td>8.181818</td>\n",
       "      <td>0.720796</td>\n",
       "      <td>197.267767</td>\n",
       "      <td>NaN</td>\n",
       "      <td>58.632548</td>\n",
       "      <td>...</td>\n",
       "      <td>210.175146</td>\n",
       "      <td>10.0</td>\n",
       "      <td>1</td>\n",
       "      <td>10.0</td>\n",
       "      <td>1.044599</td>\n",
       "      <td>NaN</td>\n",
       "      <td>0</td>\n",
       "      <td>0</td>\n",
       "      <td>98.249570</td>\n",
       "      <td>Medium</td>\n",
       "    </tr>\n",
       "    <tr>\n",
       "      <th>3</th>\n",
       "      <td>4</td>\n",
       "      <td>892.941177</td>\n",
       "      <td>NaN</td>\n",
       "      <td>NaN</td>\n",
       "      <td>638.076431</td>\n",
       "      <td>9.090909</td>\n",
       "      <td>0.820218</td>\n",
       "      <td>197.355744</td>\n",
       "      <td>4.363431</td>\n",
       "      <td>58.632548</td>\n",
       "      <td>...</td>\n",
       "      <td>NaN</td>\n",
       "      <td>NaN</td>\n",
       "      <td>1</td>\n",
       "      <td>NaN</td>\n",
       "      <td>1.145729</td>\n",
       "      <td>NaN</td>\n",
       "      <td>1</td>\n",
       "      <td>0</td>\n",
       "      <td>140.862306</td>\n",
       "      <td>Low</td>\n",
       "    </tr>\n",
       "    <tr>\n",
       "      <th>4</th>\n",
       "      <td>5</td>\n",
       "      <td>914.117647</td>\n",
       "      <td>0.083333</td>\n",
       "      <td>NaN</td>\n",
       "      <td>626.514988</td>\n",
       "      <td>5.181818</td>\n",
       "      <td>1.372928</td>\n",
       "      <td>198.790477</td>\n",
       "      <td>85.938202</td>\n",
       "      <td>58.632548</td>\n",
       "      <td>...</td>\n",
       "      <td>210.175146</td>\n",
       "      <td>NaN</td>\n",
       "      <td>.</td>\n",
       "      <td>NaN</td>\n",
       "      <td>1.558341</td>\n",
       "      <td>NaN</td>\n",
       "      <td>1</td>\n",
       "      <td>0</td>\n",
       "      <td>101.268503</td>\n",
       "      <td>High</td>\n",
       "    </tr>\n",
       "  </tbody>\n",
       "</table>\n",
       "<p>5 rows × 21 columns</p>\n",
       "</div>"
      ],
      "text/plain": [
       "   VAR1        VAR2      VAR3        VAR4        VAR5      VAR6      VAR7  \\\n",
       "0     1  828.235294  0.138889  321.428571  625.911006  1.818182  1.081550   \n",
       "1     2  911.764706  0.027778         NaN  611.574748  8.181818  1.344479   \n",
       "2     3  962.352941  0.833333   35.714286  615.825381  8.181818  0.720796   \n",
       "3     4  892.941177       NaN         NaN  638.076431  9.090909  0.820218   \n",
       "4     5  914.117647  0.083333         NaN  626.514988  5.181818  1.372928   \n",
       "\n",
       "         VAR8       VAR9      VAR10  ...       VAR12  VAR13  VAR14 VAR15  \\\n",
       "0  198.113469        NaN  58.632548  ...  100.083403    1.0      1   1.0   \n",
       "1  198.600020  22.086661        NaN  ...   15.012510    NaN      1   NaN   \n",
       "2  197.267767        NaN  58.632548  ...  210.175146   10.0      1  10.0   \n",
       "3  197.355744   4.363431  58.632548  ...         NaN    NaN      1   NaN   \n",
       "4  198.790477  85.938202  58.632548  ...  210.175146    NaN      .   NaN   \n",
       "\n",
       "      VAR16  VAR17  VAR18  VAR19       VAR20   VAR21  \n",
       "0  1.540594    NaN      1      0  100.104991     Low  \n",
       "1  1.614613    NaN      0      1  146.654045    High  \n",
       "2  1.044599    NaN      0      0   98.249570  Medium  \n",
       "3  1.145729    NaN      1      0  140.862306     Low  \n",
       "4  1.558341    NaN      1      0  101.268503    High  \n",
       "\n",
       "[5 rows x 21 columns]"
      ]
     },
     "execution_count": 147,
     "metadata": {},
     "output_type": "execute_result"
    }
   ],
   "source": [
    "df_train.head()"
   ]
  },
  {
   "cell_type": "code",
   "execution_count": 148,
   "metadata": {},
   "outputs": [
    {
     "data": {
      "text/plain": [
       "Index(['VAR1', 'VAR2', 'VAR3', 'VAR4', 'VAR5', 'VAR6', 'VAR7', 'VAR8', 'VAR9',\n",
       "       'VAR10', 'VAR11', 'VAR12', 'VAR13', 'VAR14', 'VAR15', 'VAR16', 'VAR17',\n",
       "       'VAR18', 'VAR19', 'VAR20', 'VAR21'],\n",
       "      dtype='object')"
      ]
     },
     "execution_count": 148,
     "metadata": {},
     "output_type": "execute_result"
    }
   ],
   "source": [
    "df_train.columns"
   ]
  },
  {
   "cell_type": "code",
   "execution_count": 149,
   "metadata": {},
   "outputs": [
    {
     "name": "stdout",
     "output_type": "stream",
     "text": [
      "<class 'pandas.core.frame.DataFrame'>\n",
      "RangeIndex: 34000 entries, 0 to 33999\n",
      "Data columns (total 21 columns):\n",
      "VAR1     34000 non-null int64\n",
      "VAR2     33039 non-null float64\n",
      "VAR3     30615 non-null float64\n",
      "VAR4     21506 non-null float64\n",
      "VAR5     33999 non-null float64\n",
      "VAR6     30505 non-null float64\n",
      "VAR7     33165 non-null float64\n",
      "VAR8     33165 non-null float64\n",
      "VAR9     18183 non-null float64\n",
      "VAR10    29450 non-null float64\n",
      "VAR11    26435 non-null float64\n",
      "VAR12    23498 non-null float64\n",
      "VAR13    25478 non-null float64\n",
      "VAR14    34000 non-null object\n",
      "VAR15    25976 non-null float64\n",
      "VAR16    33134 non-null float64\n",
      "VAR17    11806 non-null float64\n",
      "VAR18    34000 non-null int64\n",
      "VAR19    34000 non-null int64\n",
      "VAR20    34000 non-null float64\n",
      "VAR21    34000 non-null object\n",
      "dtypes: float64(16), int64(3), object(2)\n",
      "memory usage: 5.4+ MB\n"
     ]
    }
   ],
   "source": [
    "df_train.info()"
   ]
  },
  {
   "cell_type": "code",
   "execution_count": 150,
   "metadata": {},
   "outputs": [
    {
     "name": "stdout",
     "output_type": "stream",
     "text": [
      "VAR5      0.002941\n",
      "VAR7      2.455882\n",
      "VAR8      2.455882\n",
      "VAR16     2.547059\n",
      "VAR2      2.826471\n",
      "VAR3      9.955882\n",
      "VAR6     10.279412\n",
      "VAR10    13.382353\n",
      "VAR11    22.250000\n",
      "VAR15    23.600000\n",
      "VAR13    25.064706\n",
      "VAR12    30.888235\n",
      "VAR4     36.747059\n",
      "VAR9     46.520588\n",
      "VAR17    65.276471\n",
      "dtype: float64\n"
     ]
    }
   ],
   "source": [
    "missing_count = (df_train.isnull().sum()/len(df_train)) *100\n",
    "\n",
    "#filter to find the missing count > 0\n",
    "\n",
    "missing_count = missing_count[missing_count > 0]\n",
    "print(missing_count.sort_values())"
   ]
  },
  {
   "cell_type": "code",
   "execution_count": 151,
   "metadata": {},
   "outputs": [],
   "source": [
    "# Finding numerical features\n",
    "\n",
    "numeric_data = df_train.select_dtypes(include = [np.number])\n",
    "\n",
    "#Finding categorial features\n",
    "\n",
    "categorical_data = df_train.select_dtypes(exclude = [np.number])"
   ]
  },
  {
   "cell_type": "code",
   "execution_count": 152,
   "metadata": {},
   "outputs": [
    {
     "name": "stdout",
     "output_type": "stream",
     "text": [
      "There are 19 dataset features\n"
     ]
    }
   ],
   "source": [
    "print(\"There are\", numeric_data.shape[1], \"dataset features\")"
   ]
  },
  {
   "cell_type": "code",
   "execution_count": 153,
   "metadata": {},
   "outputs": [
    {
     "name": "stdout",
     "output_type": "stream",
     "text": [
      "There are 2 dataset features\n"
     ]
    }
   ],
   "source": [
    "print(\"There are\", categorical_data.shape[1], \"dataset features\")"
   ]
  },
  {
   "cell_type": "code",
   "execution_count": 154,
   "metadata": {},
   "outputs": [
    {
     "data": {
      "text/plain": [
       "Index(['VAR2', 'VAR3', 'VAR4', 'VAR5', 'VAR6', 'VAR7', 'VAR8', 'VAR9', 'VAR10',\n",
       "       'VAR11', 'VAR12', 'VAR13', 'VAR15', 'VAR16', 'VAR17', 'VAR18', 'VAR19',\n",
       "       'VAR20'],\n",
       "      dtype='object')"
      ]
     },
     "execution_count": 154,
     "metadata": {},
     "output_type": "execute_result"
    }
   ],
   "source": [
    "del numeric_data['VAR1']\n",
    "numeric_data.columns"
   ]
  },
  {
   "cell_type": "code",
   "execution_count": 155,
   "metadata": {},
   "outputs": [
    {
     "data": {
      "text/plain": [
       "<matplotlib.axes._subplots.AxesSubplot at 0x207abe55f28>"
      ]
     },
     "execution_count": 155,
     "metadata": {},
     "output_type": "execute_result"
    },
    {
     "data": {
      "image/png": "[encoded data removed]",
      "text/plain": [
       "<Figure size 432x288 with 2 Axes>"
      ]
     },
     "metadata": {
      "needs_background": "light"
     },
     "output_type": "display_data"
    }
   ],
   "source": [
    "#correltation plot of features on numeric data\n",
    "\n",
    "corr = numeric_data.corr()\n",
    "sns.heatmap(corr)"
   ]
  },
  {
   "cell_type": "code",
   "execution_count": 156,
   "metadata": {},
   "outputs": [
    {
     "data": {
      "image/png": "[encoded data removed]",
      "text/plain": [
       "<Figure size 864x1080 with 18 Axes>"
      ]
     },
     "metadata": {
      "needs_background": "light"
     },
     "output_type": "display_data"
    }
   ],
   "source": [
    "#Distribution of Numerical features\n",
    "\n",
    "f = pd.melt(df_train, value_vars=sorted(numeric_data))\n",
    "g = sns.FacetGrid(f, col = 'variable', col_wrap = 4, sharex=False, sharey=False)\n",
    "g = g.map(sns.distplot, 'value')"
   ]
  },
  {
   "cell_type": "code",
   "execution_count": 157,
   "metadata": {},
   "outputs": [
    {
     "data": {
      "text/plain": [
       "count    29450.000000\n",
       "mean        56.497320\n",
       "std          6.861058\n",
       "min         13.028620\n",
       "25%         57.458373\n",
       "50%         58.632548\n",
       "75%         58.632548\n",
       "max       1000.000000\n",
       "Name: VAR10, dtype: float64"
      ]
     },
     "execution_count": 157,
     "metadata": {},
     "output_type": "execute_result"
    }
   ],
   "source": [
    "df_train.VAR10.describe()"
   ]
  },
  {
   "cell_type": "code",
   "execution_count": 18,
   "metadata": {},
   "outputs": [],
   "source": [
    "#Finding numerical Features\n",
    "\n",
    "numeric_data = df_train.select_dtypes(include = np.number)\n",
    "\n",
    "#Finding categorial Features\n",
    "\n",
    "categorial_data = df_train.select_dtypes(exclude = np.number)\n"
   ]
  },
  {
   "cell_type": "code",
   "execution_count": 158,
   "metadata": {},
   "outputs": [
    {
     "data": {
      "image/png": "[encoded data removed]",
      "text/plain": [
       "<Figure size 864x216 with 2 Axes>"
      ]
     },
     "metadata": {
      "needs_background": "light"
     },
     "output_type": "display_data"
    }
   ],
   "source": [
    "#Plot the count of Categorial Features\n",
    "\n",
    "f = pd.melt(df_train, value_vars=sorted(categorial_data))\n",
    "g = sns.FacetGrid(f, col = 'variable', col_wrap = 4, sharex=False, sharey=False)\n",
    "g = g.map(sns.countplot, 'value')\n",
    "[plt.setp(ax.get_xticklabels(),rotation=60) for ax in g.axes.flat]\n",
    "g.fig.tight_layout()\n",
    "plt.show()"
   ]
  },
  {
   "cell_type": "code",
   "execution_count": 159,
   "metadata": {},
   "outputs": [],
   "source": [
    "df_train.VAR21.replace({'Low':0, 'Medium':2, 'High':3}, inplace = True)\n"
   ]
  },
  {
   "cell_type": "code",
   "execution_count": 160,
   "metadata": {},
   "outputs": [
    {
     "data": {
      "text/plain": [
       "0    0\n",
       "1    3\n",
       "2    2\n",
       "3    0\n",
       "4    3\n",
       "Name: VAR21, dtype: int64"
      ]
     },
     "execution_count": 160,
     "metadata": {},
     "output_type": "execute_result"
    }
   ],
   "source": [
    "df_train.VAR21.head()"
   ]
  },
  {
   "cell_type": "code",
   "execution_count": 161,
   "metadata": {},
   "outputs": [],
   "source": [
    "cat_to_num_features=['VAR14','VAR21']"
   ]
  },
  {
   "cell_type": "code",
   "execution_count": 162,
   "metadata": {},
   "outputs": [
    {
     "data": {
      "text/html": [
       "<div>\n",
       "<style scoped>\n",
       "    .dataframe tbody tr th:only-of-type {\n",
       "        vertical-align: middle;\n",
       "    }\n",
       "\n",
       "    .dataframe tbody tr th {\n",
       "        vertical-align: top;\n",
       "    }\n",
       "\n",
       "    .dataframe thead th {\n",
       "        text-align: right;\n",
       "    }\n",
       "</style>\n",
       "<table border=\"1\" class=\"dataframe\">\n",
       "  <thead>\n",
       "    <tr style=\"text-align: right;\">\n",
       "      <th></th>\n",
       "      <th>VAR14</th>\n",
       "      <th>VAR21</th>\n",
       "    </tr>\n",
       "  </thead>\n",
       "  <tbody>\n",
       "    <tr>\n",
       "      <th>0</th>\n",
       "      <td>1</td>\n",
       "      <td>0</td>\n",
       "    </tr>\n",
       "    <tr>\n",
       "      <th>1</th>\n",
       "      <td>1</td>\n",
       "      <td>3</td>\n",
       "    </tr>\n",
       "    <tr>\n",
       "      <th>2</th>\n",
       "      <td>1</td>\n",
       "      <td>2</td>\n",
       "    </tr>\n",
       "    <tr>\n",
       "      <th>3</th>\n",
       "      <td>1</td>\n",
       "      <td>0</td>\n",
       "    </tr>\n",
       "    <tr>\n",
       "      <th>4</th>\n",
       "      <td>.</td>\n",
       "      <td>3</td>\n",
       "    </tr>\n",
       "  </tbody>\n",
       "</table>\n",
       "</div>"
      ],
      "text/plain": [
       "  VAR14  VAR21\n",
       "0     1      0\n",
       "1     1      3\n",
       "2     1      2\n",
       "3     1      0\n",
       "4     .      3"
      ]
     },
     "execution_count": 162,
     "metadata": {},
     "output_type": "execute_result"
    }
   ],
   "source": [
    "df_train[cat_to_num_features] = df_train[cat_to_num_features].fillna(0)\n",
    "df_train[cat_to_num_features].head()"
   ]
  },
  {
   "cell_type": "code",
   "execution_count": 163,
   "metadata": {},
   "outputs": [],
   "source": [
    "#Finding numerical Features\n",
    "\n",
    "numeric_data = df_train.select_dtypes(include = np.number)\n",
    "\n",
    "#Finding categorial Features\n",
    "\n",
    "categorial_data = df_train.select_dtypes(exclude = np.number)\n"
   ]
  },
  {
   "cell_type": "code",
   "execution_count": 164,
   "metadata": {},
   "outputs": [
    {
     "name": "stdout",
     "output_type": "stream",
     "text": [
      "There are 20 dataset features\n"
     ]
    }
   ],
   "source": [
    "print(\"There are\", numeric_data.shape[1], \"dataset features\")"
   ]
  },
  {
   "cell_type": "code",
   "execution_count": 165,
   "metadata": {},
   "outputs": [
    {
     "name": "stdout",
     "output_type": "stream",
     "text": [
      "There are 1 dataset features\n"
     ]
    }
   ],
   "source": [
    "print(\"There are\", categorial_data.shape[1], \"dataset features\")"
   ]
  },
  {
   "cell_type": "code",
   "execution_count": 166,
   "metadata": {},
   "outputs": [
    {
     "data": {
      "text/plain": [
       "array([ 828.24,  911.76,  962.35,  892.94,  914.12,  794.12,  987.06,\n",
       "        921.18,  947.06,  940.  ,  931.76,  882.35,  958.82,  937.65,\n",
       "        808.24,  944.71,  798.82,  974.12,  927.06,  918.82,  982.35,\n",
       "        847.06,  897.65,  952.94,  871.76,  877.65,  894.12,  845.88,\n",
       "        963.53,  956.47,  883.53,  923.53,  887.06,  976.47,  967.06,\n",
       "        854.12, 1000.  ,  889.41,  880.  ,  917.65,  848.24,  968.24,\n",
       "           nan,  960.  ,  908.24,  957.65,  875.29,  994.12,  912.94,\n",
       "        916.47,  948.24,  922.35,  851.76,  938.82,  822.35,  860.  ,\n",
       "        867.06,  932.94,  996.47,  830.59,  904.71,  881.18,  902.35,\n",
       "        807.06,  935.29,  972.94,  936.47,  838.82,  928.24,  981.18,\n",
       "        980.  ,  955.29,  872.94,  934.12,  849.41,  858.82,  868.24,\n",
       "        907.06,  869.41,  777.65,  905.88,  831.76,  964.71,  915.29,\n",
       "        843.53,  961.18,  896.47,  884.71,  885.88,  942.35,  945.88,\n",
       "        888.24,  941.18,  943.53,  856.47,  903.53,  790.59,  990.59,\n",
       "        901.18,  910.59,  998.82,  809.41,  909.41,  834.12,  816.47,\n",
       "        951.76,  969.41,  815.29,  930.59,  763.53,  874.12,  895.29,\n",
       "        852.94,  825.88,  971.76,  949.41,  965.88,  864.71,  876.47,\n",
       "        975.29,  865.88,  900.  ,  991.76,  920.  ,  954.12,  929.41,\n",
       "        970.59,  812.94,  984.71,  837.65,  827.06,  989.41,  992.94,\n",
       "        950.59,  821.18,  841.18,  995.29,  878.82,  977.65,  820.  ,\n",
       "        801.18,  817.65,  805.88,  836.47,  861.18,  997.65,  925.88,\n",
       "        898.82,  818.82,  924.71,  891.76,  814.12,  978.82,  784.71,\n",
       "        850.59,  985.88,  824.71,  862.35,  803.53,  829.41,  983.53,\n",
       "        797.65,  842.35,  988.24,  785.88,  890.59,  802.35,  863.53,\n",
       "        835.29,  780.  ,  823.53,  840.  ,  795.29,  870.59,  796.47,\n",
       "        857.65,  811.76,  788.24,  855.29,  800.  ,  765.88,  762.35,\n",
       "        782.35,  781.18,  804.71,  789.41,  778.82,  832.94,  792.94,\n",
       "        787.06,  844.71,  810.59,  783.53,  734.12,  774.12,  771.76,\n",
       "        750.59,  772.94,  791.76,  767.06,  776.47,  768.24,  751.76,\n",
       "        745.88,  769.41,  775.29,  757.65,  748.24,  742.35,  764.71,\n",
       "        770.59,  761.18,  760.  ,  755.29,  743.53,  740.  ,  744.71,\n",
       "        730.59,  736.47,  731.76,  754.12])"
      ]
     },
     "execution_count": 166,
     "metadata": {},
     "output_type": "execute_result"
    }
   ],
   "source": [
    "df_train.VAR2.unique()"
   ]
  },
  {
   "cell_type": "code",
   "execution_count": 167,
   "metadata": {},
   "outputs": [
    {
     "data": {
      "text/plain": [
       "count    33039.000000\n",
       "mean       917.391603\n",
       "std         50.222389\n",
       "min        730.588235\n",
       "25%        882.352941\n",
       "50%        924.705882\n",
       "75%        956.470588\n",
       "max       1000.000000\n",
       "Name: VAR2, dtype: float64"
      ]
     },
     "execution_count": 167,
     "metadata": {},
     "output_type": "execute_result"
    }
   ],
   "source": [
    "df_train['VAR2'].describe()"
   ]
  },
  {
   "cell_type": "code",
   "execution_count": 168,
   "metadata": {},
   "outputs": [],
   "source": [
    "df_train['VAR2']=df_train['VAR2'].fillna(np.mean(df_train['VAR2']))"
   ]
  },
  {
   "cell_type": "code",
   "execution_count": 169,
   "metadata": {},
   "outputs": [
    {
     "data": {
      "text/plain": [
       "array([0.14, 0.03, 0.83, ..., 1.32, 1.89, 0.18])"
      ]
     },
     "execution_count": 169,
     "metadata": {},
     "output_type": "execute_result"
    }
   ],
   "source": [
    "df_train.VAR3.unique()"
   ]
  },
  {
   "cell_type": "code",
   "execution_count": 170,
   "metadata": {},
   "outputs": [],
   "source": [
    "df_train['VAR3']=df_train['VAR3'].fillna(np.mean(df_train['VAR3']))"
   ]
  },
  {
   "cell_type": "code",
   "execution_count": 171,
   "metadata": {},
   "outputs": [
    {
     "data": {
      "text/plain": [
       "array([ 321.43,     nan,   35.71,  178.57,  821.43,  107.14,  142.86,\n",
       "        392.86,   71.43,  678.57,  571.43,  250.  ,  464.29,  642.86,\n",
       "        285.71,  357.14,  928.57,  214.29,  428.57,  535.71,  500.  ,\n",
       "        892.86,  714.29,  750.  ,  632.86, 1000.  ,  607.14,  964.29,\n",
       "        785.71,  857.14,  128.21,  597.5 ,   92.86,  245.71,   34.64,\n",
       "         73.57,   28.57,  864.29,  157.14,  527.14,   18.93,  316.07,\n",
       "        738.21])"
      ]
     },
     "execution_count": 171,
     "metadata": {},
     "output_type": "execute_result"
    }
   ],
   "source": [
    "df_train.VAR4.unique()"
   ]
  },
  {
   "cell_type": "code",
   "execution_count": 172,
   "metadata": {},
   "outputs": [],
   "source": [
    "df_train['VAR4']=df_train['VAR4'].fillna(np.mean(df_train['VAR4']))"
   ]
  },
  {
   "cell_type": "code",
   "execution_count": 173,
   "metadata": {},
   "outputs": [
    {
     "data": {
      "text/plain": [
       "array([625.91, 611.57, 615.83, ..., 612.22, 682.76, 650.42])"
      ]
     },
     "execution_count": 173,
     "metadata": {},
     "output_type": "execute_result"
    }
   ],
   "source": [
    "df_train.VAR5.unique()"
   ]
  },
  {
   "cell_type": "code",
   "execution_count": 174,
   "metadata": {
    "scrolled": true
   },
   "outputs": [],
   "source": [
    "df_train.VAR5=df_train['VAR5'].fillna(np.mean(df_train['VAR5']))"
   ]
  },
  {
   "cell_type": "code",
   "execution_count": 175,
   "metadata": {
    "scrolled": true
   },
   "outputs": [
    {
     "data": {
      "text/plain": [
       "array([1.82e+00, 8.18e+00, 9.09e+00, 5.18e+00, 1.27e+01,      nan,\n",
       "       1.82e+01, 2.36e+01, 2.73e+01, 1.14e+01, 2.09e+00, 6.64e+00,\n",
       "       5.91e+00, 1.64e+01, 5.45e+00, 2.27e+00, 2.45e+01, 4.67e+00,\n",
       "       3.18e+01, 1.36e+01, 7.55e+00, 4.55e+00, 3.91e+01, 6.82e+00,\n",
       "       8.82e+00, 7.73e+00, 2.27e+01, 6.36e+00, 1.09e+01, 2.55e+00,\n",
       "       3.64e+00, 7.27e+00, 1.00e+01, 6.36e+01, 8.64e+00, 4.55e+01,\n",
       "       1.52e+01, 3.91e+00, 6.59e+00, 2.27e+01, 3.82e+01, 9.09e+01,\n",
       "       2.73e+00, 3.64e+01, 1.73e+01, 1.64e+00, 9.09e+02, 1.59e+01,\n",
       "       6.09e+00, 1.79e+01, 1.45e+01, 5.23e+00, 3.64e-01, 6.37e+01,\n",
       "       4.11e+00, 3.18e+00, 4.09e+01, 1.14e+00, 5.00e+00, 7.64e+00,\n",
       "       4.09e+00, 2.55e+01, 2.09e+01, 4.55e-01, 2.05e+01, 6.73e+00,\n",
       "       4.36e+00, 7.27e+01, 1.18e+01, 1.59e+00, 6.82e+01, 3.41e+01,\n",
       "       1.02e+01, 2.14e+01, 2.91e+02, 7.09e+00, 2.45e+00, 2.77e+01,\n",
       "       2.73e+02, 6.09e-01, 1.55e+01, 2.95e+01, 9.55e+00, 9.09e-01,\n",
       "       1.24e+01, 3.32e+01, 4.91e+00, 9.45e+00, 1.20e+01, 3.27e+00,\n",
       "       5.82e+00, 1.23e+01, 5.32e+00, 1.44e+01, 1.00e+02, 7.36e+00,\n",
       "       5.45e+01, 1.32e+01, 3.82e+00, 1.31e+01, 1.03e+01, 8.91e+00,\n",
       "       3.86e+00, 1.23e+00, 1.42e+01, 2.00e+01, 1.36e+00, 8.18e+01,\n",
       "       3.50e+01, 9.82e+00, 3.41e+00, 3.18e+02, 4.09e+02, 9.27e+00,\n",
       "       3.36e+00, 2.91e+00, 1.42e+01, 6.55e+00, 7.29e+00, 9.91e+00,\n",
       "       2.18e+01, 7.91e+00, 1.75e+00, 8.09e+00, 1.17e+01, 8.73e+00,\n",
       "       1.69e+01, 4.73e+00, 1.11e+01, 7.86e+00, 1.15e+01, 1.27e+00,\n",
       "       3.55e+00, 6.18e+00, 2.18e+00, 4.82e+00, 1.91e+01, 5.91e+01,\n",
       "       2.50e+01, 2.82e+00, 8.55e+00, 1.05e+01, 4.55e+02, 9.00e+00,\n",
       "       1.50e+01, 3.73e+00, 2.00e+00, 8.57e+00, 1.09e+02, 1.41e+01,\n",
       "       8.41e+00, 3.23e+00, 4.32e+01, 1.36e+02, 1.77e+01, 9.82e-01,\n",
       "       5.27e+00, 1.10e+01, 2.69e+01, 8.27e+00, 7.00e+00, 1.82e+02,\n",
       "       1.86e+01, 1.09e+00, 1.19e+01, 5.73e+00, 4.18e+00, 5.09e+00,\n",
       "       4.36e+01, 2.64e+01, 3.44e+01, 1.25e+01, 2.59e+01, 1.53e+01,\n",
       "       2.55e+02, 1.76e+01, 2.32e+01, 1.95e+01, 8.64e+01, 5.00e+01,\n",
       "       2.82e+01, 7.18e+00, 2.50e+00, 1.35e+01, 1.00e+00, 4.03e+01,\n",
       "       7.45e+00, 1.74e+01, 3.45e+00, 1.22e+01, 5.68e+00, 7.48e+00,\n",
       "       3.45e+01, 8.55e+01, 5.45e+02, 3.18e-01, 6.91e+00, 6.00e+00,\n",
       "       1.01e+01, 7.82e+00, 5.64e+00, 9.09e+00, 5.02e+00, 9.09e-03,\n",
       "       4.64e+00, 4.04e+01, 9.41e+01, 2.07e+00, 1.60e+02, 1.68e+01,\n",
       "       1.30e+01, 1.21e+01, 8.95e+00, 1.91e+00, 1.09e+01, 1.43e+01,\n",
       "       6.27e+00, 6.04e+00, 5.36e+00, 5.45e-01, 8.45e+00, 4.00e+00,\n",
       "       1.45e+00, 7.95e+00, 6.09e+01, 2.91e+01, 3.36e+01, 1.61e+01,\n",
       "       2.27e+02, 4.32e+00, 1.15e+01, 1.13e+01, 1.18e+00, 3.09e+01,\n",
       "       8.36e+00, 9.64e+00, 4.64e+01, 8.00e+00, 1.75e+01, 1.60e+01,\n",
       "       1.90e+01, 1.65e+01, 7.73e+01, 3.03e+01, 1.42e+00, 5.24e+00,\n",
       "       3.27e+01, 6.30e+00, 7.99e+01, 5.59e+00, 3.00e+01, 1.72e+01,\n",
       "       3.64e+02, 7.73e+02, 2.62e+00, 7.27e-01, 1.64e+02, 6.82e+02,\n",
       "       3.77e+01, 2.13e+02, 9.09e+01, 7.29e+00, 4.82e+01, 2.84e+01,\n",
       "       4.95e+01, 1.12e+01, 1.06e+01, 1.35e+01, 2.39e+01, 6.23e+01,\n",
       "       2.53e+01, 3.09e+00, 4.58e+01, 7.09e+01, 9.18e+00, 1.67e+01,\n",
       "       2.51e+01, 7.73e-01, 1.53e+01, 1.80e+01, 3.47e+01, 1.65e+01,\n",
       "       9.36e+00, 1.45e+02, 1.73e+00, 4.27e+00, 1.18e+02, 7.79e+00,\n",
       "       6.36e+02, 8.87e+00, 3.05e+01, 6.36e-03, 7.96e+01, 3.92e+01,\n",
       "       2.28e+00, 8.72e+00, 2.64e+00, 1.85e+00, 1.38e+01, 8.90e+00,\n",
       "       3.82e-01, 1.51e+01, 2.05e+01, 8.18e-01, 1.85e+01, 9.11e+00,\n",
       "       3.93e+01, 6.02e+00, 7.24e+00, 2.35e+01, 3.55e+01, 1.55e+00,\n",
       "       3.50e+01, 2.05e+02, 1.33e+01, 9.38e+00, 1.45e+01, 2.41e+01,\n",
       "       6.51e+01, 3.09e+02, 6.96e+00, 3.14e+01, 2.68e+01, 4.77e+01,\n",
       "       1.30e+01, 2.31e+01, 1.19e+01, 1.14e+02, 1.96e+00, 1.47e+01,\n",
       "       3.04e+01, 2.15e+01, 1.08e+01, 1.27e+02, 2.86e+01, 3.00e+00,\n",
       "       1.16e+01, 7.47e+00, 2.18e+02, 9.05e+01, 5.95e+00, 2.91e+02,\n",
       "       9.73e+00, 6.45e+01, 2.06e+01, 4.26e+01, 1.66e+01, 4.51e+00,\n",
       "       3.35e+01, 1.12e+01, 4.00e+01, 3.86e+01, 6.55e+01, 1.18e+01,\n",
       "       1.12e+01, 3.68e+01, 4.61e+01, 2.13e+01, 1.96e+01, 2.16e+01,\n",
       "       8.94e+00, 3.73e+01, 1.07e+01, 7.61e+00, 3.20e+01, 1.62e+01,\n",
       "       1.12e+01, 7.02e+01, 1.15e+01, 4.45e+00, 1.39e+00, 6.26e+00,\n",
       "       7.90e+00, 1.64e+01, 1.92e+01, 1.91e+01, 9.77e+01, 3.93e+00,\n",
       "       2.95e+01, 1.29e+01, 6.98e+00, 8.73e+01, 9.08e+00, 1.71e+01,\n",
       "       6.65e+00, 2.73e-01, 1.36e+01, 2.63e+01, 8.77e+01, 2.36e+00,\n",
       "       3.33e+01, 2.24e+01, 1.70e+00, 3.20e+00, 5.67e+00, 1.49e+01,\n",
       "       1.05e+01, 6.66e+00, 9.09e-02, 9.11e-01, 3.54e+01, 3.59e+01,\n",
       "       3.49e+00, 1.55e+02, 4.37e+01, 8.00e-01, 1.48e+01, 1.36e+01,\n",
       "       2.27e+01, 3.65e+00, 5.71e+00, 2.23e+01, 1.34e+01, 8.38e+00,\n",
       "       1.12e+01, 2.48e+00, 3.05e+00, 1.02e+01, 2.79e+01, 1.47e+01,\n",
       "       2.84e+00, 2.11e+01, 1.26e+01, 9.95e+00, 6.59e+01, 1.93e+01,\n",
       "       6.14e+01, 1.27e+01, 1.04e+01, 9.67e+00, 1.39e+01, 9.09e+00,\n",
       "       1.48e+01, 1.87e+01, 1.70e+01, 2.54e+01, 2.40e+01, 1.21e+01,\n",
       "       5.27e+01, 1.40e+01, 1.73e+02, 6.76e+00, 3.70e+01, 1.51e+01,\n",
       "       8.64e-01, 1.67e+01, 7.27e+00, 2.28e+01, 1.37e+01, 1.25e+01,\n",
       "       1.59e+02, 5.55e+00, 1.17e+01, 1.82e-01, 1.24e+00, 1.16e+01,\n",
       "       2.04e+01, 1.45e+01, 1.57e+01, 1.84e+01, 9.03e+00, 1.31e+00,\n",
       "       9.02e+00, 1.70e+01, 8.68e+00, 8.79e+00, 2.99e+01, 1.00e+01,\n",
       "       6.64e+01, 1.19e+01, 7.27e-03, 1.36e-02, 2.88e+01, 4.41e+00,\n",
       "       4.55e-02, 2.46e+01, 8.13e+00, 1.21e+01, 6.45e+00, 4.55e+00,\n",
       "       4.55e+01, 3.41e-01, 4.73e+01, 5.09e+01, 4.94e+00, 3.45e+00,\n",
       "       1.28e+01, 1.66e+01, 1.95e+01, 1.45e+00, 7.72e+00, 3.64e+00,\n",
       "       3.35e+00, 2.22e+01, 1.13e+01, 2.08e+01, 1.20e+00, 3.36e+00,\n",
       "       1.07e+01, 2.49e+01, 5.82e+01, 2.92e+01, 8.59e+00, 7.27e+02,\n",
       "       4.27e-02, 3.99e+00, 2.61e+01, 1.94e+01, 4.16e+01, 5.69e+00,\n",
       "       1.01e+01, 2.73e-02, 1.07e+01, 5.63e+00, 4.23e+00, 5.42e+00,\n",
       "       7.55e+01, 2.01e+01, 2.35e+01, 4.43e+00, 8.37e+00, 4.58e+00,\n",
       "       1.65e+01, 6.25e+00, 1.52e+01, 7.05e+01, 2.55e+01, 5.10e-01,\n",
       "       2.10e+01, 1.58e+01, 2.20e+01, 1.04e+01, 1.88e+01, 9.14e+00,\n",
       "       7.55e-01, 7.12e+00, 4.82e+00, 8.66e+00, 3.05e+01, 1.41e+01,\n",
       "       7.77e+00, 1.92e+01, 7.35e+00, 2.29e+01, 3.95e+01, 3.50e+00,\n",
       "       4.96e+01, 2.25e+01, 2.85e+01, 1.40e+00, 4.50e+01, 7.11e+00,\n",
       "       1.55e+01, 5.71e+01, 7.77e+01, 1.50e+00, 2.25e+01, 2.25e+00,\n",
       "       7.93e+00, 2.30e+01, 5.32e+00, 1.01e+01, 1.98e+01, 1.92e+01,\n",
       "       1.05e+01, 1.85e+01, 1.18e+01, 3.65e+01, 3.60e+00, 8.95e+00,\n",
       "       1.34e+02, 4.15e+01, 1.07e+01, 6.00e+01, 9.67e+00, 8.11e+00,\n",
       "       2.11e+01, 2.19e+01, 1.93e+00, 1.95e+01, 2.76e+01, 4.07e+01,\n",
       "       4.18e+01, 2.15e+00, 2.41e+00, 3.34e+01, 2.29e+01, 2.62e+01,\n",
       "       2.03e+01, 1.46e+01, 8.67e+00, 3.26e+01, 4.27e+01, 4.91e+00,\n",
       "       5.22e+01, 1.63e+01, 5.00e-03, 6.16e+00, 6.41e+00, 4.35e+00,\n",
       "       9.12e+00, 6.83e+01, 3.77e+01, 1.90e+00, 9.00e+00, 2.97e+01,\n",
       "       1.51e+01, 9.40e+00, 5.85e+00, 2.44e+01, 2.65e+01, 4.74e+01,\n",
       "       3.51e+01, 2.89e+01, 2.11e+00, 6.77e+01, 6.62e+00, 1.14e+01,\n",
       "       6.77e+00, 6.15e+00, 8.45e+01, 3.05e+00, 9.80e-01, 9.07e+00,\n",
       "       1.18e+01, 3.04e+01, 3.75e+01, 1.78e+01, 3.18e-02, 6.82e-01,\n",
       "       1.46e+01, 9.55e+01, 6.41e+00, 9.77e-01, 2.27e+02, 1.76e+01,\n",
       "       1.23e-02, 1.34e+02, 9.16e+00, 1.56e+01, 4.15e+00, 2.78e+00,\n",
       "       3.23e+01, 3.52e+00, 4.09e-01, 4.36e-01, 1.31e+01, 2.20e+01,\n",
       "       4.89e+00, 9.32e+01, 8.09e-01, 6.36e-02, 1.83e+01, 2.90e+00,\n",
       "       7.84e+00, 8.91e+01, 6.31e+01, 2.36e+02, 4.18e+00, 5.45e-02,\n",
       "       2.39e+00, 8.13e+01, 7.35e+00, 1.35e+01, 1.20e+01, 9.26e+00,\n",
       "       4.77e+00, 5.36e+01, 1.14e+01, 9.00e+01, 1.70e+00, 2.81e+01,\n",
       "       3.13e+00, 5.73e+01, 4.19e+01, 1.94e+01, 7.80e+00, 6.18e+01,\n",
       "       8.86e+00, 1.68e+00, 5.03e+00, 3.12e+01, 2.45e+02, 3.88e+00,\n",
       "       2.61e+00, 3.19e+01, 3.34e+00, 6.10e+00, 1.30e+01, 8.46e+00,\n",
       "       2.26e+01, 4.71e+00, 3.16e+01, 4.73e+02, 4.87e+01, 8.36e-01,\n",
       "       2.71e+01, 5.34e+00, 1.54e+01, 2.27e-02, 5.27e-01, 5.44e+00,\n",
       "       2.12e+01])"
      ]
     },
     "execution_count": 175,
     "metadata": {},
     "output_type": "execute_result"
    }
   ],
   "source": [
    "df_train.VAR6.unique()"
   ]
  },
  {
   "cell_type": "code",
   "execution_count": 176,
   "metadata": {},
   "outputs": [],
   "source": [
    "df_train['VAR6']=df_train['VAR6'].fillna(np.mean(df_train['VAR6']))"
   ]
  },
  {
   "cell_type": "code",
   "execution_count": 177,
   "metadata": {},
   "outputs": [
    {
     "data": {
      "text/plain": [
       "array([1.08, 1.34, 0.72, ..., 0.97, 0.62, 2.64])"
      ]
     },
     "execution_count": 177,
     "metadata": {},
     "output_type": "execute_result"
    }
   ],
   "source": [
    "df_train.VAR7.unique()"
   ]
  },
  {
   "cell_type": "code",
   "execution_count": 178,
   "metadata": {},
   "outputs": [],
   "source": [
    "df_train['VAR7']=df_train['VAR7'].fillna(np.mean(df_train['VAR7']))"
   ]
  },
  {
   "cell_type": "code",
   "execution_count": 179,
   "metadata": {},
   "outputs": [
    {
     "data": {
      "text/plain": [
       "array([198.11, 198.6 , 197.27, ..., 197.44, 198.25, 201.39])"
      ]
     },
     "execution_count": 179,
     "metadata": {},
     "output_type": "execute_result"
    }
   ],
   "source": [
    "df_train.VAR8.unique()"
   ]
  },
  {
   "cell_type": "code",
   "execution_count": 180,
   "metadata": {},
   "outputs": [],
   "source": [
    "df_train['VAR8']=df_train['VAR8'].fillna(np.mean(df_train['VAR8']))"
   ]
  },
  {
   "cell_type": "code",
   "execution_count": 181,
   "metadata": {},
   "outputs": [],
   "source": [
    "df_train['VAR9']=df_train['VAR9'].fillna(np.mean(df_train['VAR9']))"
   ]
  },
  {
   "cell_type": "code",
   "execution_count": 182,
   "metadata": {},
   "outputs": [],
   "source": [
    "df_train['VAR10']=df_train['VAR10'].fillna(np.mean(df_train['VAR10']))"
   ]
  },
  {
   "cell_type": "code",
   "execution_count": 183,
   "metadata": {},
   "outputs": [],
   "source": [
    "df_train['VAR11']=df_train['VAR11'].fillna(np.mean(df_train['VAR11']))"
   ]
  },
  {
   "cell_type": "code",
   "execution_count": 184,
   "metadata": {},
   "outputs": [],
   "source": [
    "df_train['VAR12']=df_train['VAR12'].fillna(np.mean(df_train['VAR12']))"
   ]
  },
  {
   "cell_type": "code",
   "execution_count": 185,
   "metadata": {},
   "outputs": [],
   "source": [
    "df_train['VAR13']=df_train['VAR13'].fillna(np.mean(df_train['VAR13']))"
   ]
  },
  {
   "cell_type": "code",
   "execution_count": 186,
   "metadata": {},
   "outputs": [
    {
     "data": {
      "text/plain": [
       "array([ 1.  ,   nan, 10.  , ..., 21.17,  2.05,  2.52])"
      ]
     },
     "execution_count": 186,
     "metadata": {},
     "output_type": "execute_result"
    }
   ],
   "source": [
    "df_train.VAR15.unique()"
   ]
  },
  {
   "cell_type": "code",
   "execution_count": 187,
   "metadata": {},
   "outputs": [],
   "source": [
    "df_l['VAR14']=df_l['VAR14'].fillna('1')"
   ]
  },
  {
   "cell_type": "code",
   "execution_count": 188,
   "metadata": {},
   "outputs": [],
   "source": [
    "df_train['VAR15']=df_train['VAR15'].fillna(np.mean(df_train['VAR15']))"
   ]
  },
  {
   "cell_type": "code",
   "execution_count": 189,
   "metadata": {},
   "outputs": [],
   "source": [
    "df_train['VAR16']=df_train['VAR16'].fillna(np.mean(df_train['VAR16']))"
   ]
  },
  {
   "cell_type": "code",
   "execution_count": 190,
   "metadata": {},
   "outputs": [],
   "source": [
    "df_train['VAR17']=df_train['VAR17'].fillna(np.mean(df_train['VAR17']))"
   ]
  },
  {
   "cell_type": "code",
   "execution_count": 191,
   "metadata": {},
   "outputs": [
    {
     "name": "stdout",
     "output_type": "stream",
     "text": [
      "<class 'pandas.core.frame.DataFrame'>\n",
      "RangeIndex: 34000 entries, 0 to 33999\n",
      "Data columns (total 21 columns):\n",
      "VAR1     34000 non-null int64\n",
      "VAR2     34000 non-null float64\n",
      "VAR3     34000 non-null float64\n",
      "VAR4     34000 non-null float64\n",
      "VAR5     34000 non-null float64\n",
      "VAR6     34000 non-null float64\n",
      "VAR7     34000 non-null float64\n",
      "VAR8     34000 non-null float64\n",
      "VAR9     34000 non-null float64\n",
      "VAR10    34000 non-null float64\n",
      "VAR11    34000 non-null float64\n",
      "VAR12    34000 non-null float64\n",
      "VAR13    34000 non-null float64\n",
      "VAR14    34000 non-null object\n",
      "VAR15    34000 non-null float64\n",
      "VAR16    34000 non-null float64\n",
      "VAR17    34000 non-null float64\n",
      "VAR18    34000 non-null int64\n",
      "VAR19    34000 non-null int64\n",
      "VAR20    34000 non-null float64\n",
      "VAR21    34000 non-null int64\n",
      "dtypes: float64(16), int64(4), object(1)\n",
      "memory usage: 5.4+ MB\n"
     ]
    }
   ],
   "source": [
    "df_train.info()"
   ]
  },
  {
   "cell_type": "code",
   "execution_count": 192,
   "metadata": {},
   "outputs": [],
   "source": [
    "#model making using SVM\n",
    "\n",
    "\n",
    "import pylab as pl\n",
    "import numpy as np\n",
    "import scipy.optimize as opt\n",
    "from sklearn import preprocessing\n",
    "from sklearn.model_selection import train_test_split"
   ]
  },
  {
   "cell_type": "code",
   "execution_count": 193,
   "metadata": {},
   "outputs": [
    {
     "data": {
      "text/plain": [
       "VAR1       int64\n",
       "VAR2     float64\n",
       "VAR3     float64\n",
       "VAR4     float64\n",
       "VAR5     float64\n",
       "VAR6     float64\n",
       "VAR7     float64\n",
       "VAR8     float64\n",
       "VAR9     float64\n",
       "VAR10    float64\n",
       "VAR11    float64\n",
       "VAR12    float64\n",
       "VAR13    float64\n",
       "VAR14     object\n",
       "VAR15    float64\n",
       "VAR16    float64\n",
       "VAR17    float64\n",
       "VAR18      int64\n",
       "VAR19      int64\n",
       "VAR20    float64\n",
       "VAR21     object\n",
       "dtype: object"
      ]
     },
     "execution_count": 193,
     "metadata": {},
     "output_type": "execute_result"
    }
   ],
   "source": [
    "df.dtypes"
   ]
  },
  {
   "cell_type": "code",
   "execution_count": 194,
   "metadata": {},
   "outputs": [
    {
     "data": {
      "text/plain": [
       "array([[8.28e+02, 1.39e-01, 3.21e+02, 6.26e+02, 1.82e+00, 1.08e+00,\n",
       "        1.98e+02, 5.40e+01, 5.86e+01, 2.79e-01, 1.00e+02, 1.00e+00,\n",
       "        1.00e+00, 1.54e+00, 8.21e+02, 1.00e+00, 0.00e+00, 1.00e+02],\n",
       "       [9.12e+02, 2.78e-02, 2.48e+02, 6.12e+02, 8.18e+00, 1.34e+00,\n",
       "        1.99e+02, 2.21e+01, 5.65e+01, 5.43e+00, 1.50e+01, 1.17e+01,\n",
       "        1.25e+01, 1.61e+00, 8.21e+02, 0.00e+00, 1.00e+00, 1.47e+02],\n",
       "       [9.62e+02, 8.33e-01, 3.57e+01, 6.16e+02, 8.18e+00, 7.21e-01,\n",
       "        1.97e+02, 5.40e+01, 5.86e+01, 4.53e-01, 2.10e+02, 1.00e+01,\n",
       "        1.00e+01, 1.04e+00, 8.21e+02, 0.00e+00, 0.00e+00, 9.82e+01],\n",
       "       [8.93e+02, 1.12e+00, 2.48e+02, 6.38e+02, 9.09e+00, 8.20e-01,\n",
       "        1.97e+02, 4.36e+00, 5.86e+01, 5.43e+00, 1.17e+02, 1.17e+01,\n",
       "        1.25e+01, 1.15e+00, 8.21e+02, 1.00e+00, 0.00e+00, 1.41e+02],\n",
       "       [9.14e+02, 8.33e-02, 2.48e+02, 6.27e+02, 5.18e+00, 1.37e+00,\n",
       "        1.99e+02, 8.59e+01, 5.86e+01, 5.43e+00, 2.10e+02, 1.17e+01,\n",
       "        1.25e+01, 1.56e+00, 8.21e+02, 1.00e+00, 0.00e+00, 1.01e+02]])"
      ]
     },
     "execution_count": 194,
     "metadata": {},
     "output_type": "execute_result"
    }
   ],
   "source": [
    "feature_df = df_train[['VAR2', 'VAR3', 'VAR4', 'VAR5', 'VAR6', 'VAR7', 'VAR8', 'VAR9', 'VAR10', 'VAR11', 'VAR12', 'VAR13', 'VAR15', 'VAR16', 'VAR17', 'VAR18', 'VAR19', 'VAR20']]\n",
    "X = np.asarray(feature_df)\n",
    "X[0:5]"
   ]
  },
  {
   "cell_type": "code",
   "execution_count": 195,
   "metadata": {},
   "outputs": [
    {
     "data": {
      "text/plain": [
       "array([0, 3, 2, 0, 3])"
      ]
     },
     "execution_count": 195,
     "metadata": {},
     "output_type": "execute_result"
    }
   ],
   "source": [
    "df_train['VAR21'] = df_train['VAR21'].astype('int')\n",
    "y = np.asarray(df_train['VAR21'])\n",
    "y [0:5]"
   ]
  },
  {
   "cell_type": "code",
   "execution_count": 196,
   "metadata": {},
   "outputs": [
    {
     "name": "stdout",
     "output_type": "stream",
     "text": [
      "Train set: (27200, 18) (27200,)\n",
      "Test set: (6800, 18) (6800,)\n"
     ]
    }
   ],
   "source": [
    "X_train, X_test, y_train, y_test = train_test_split( X, y, test_size=0.2, random_state=4)\n",
    "print ('Train set:', X_train.shape,  y_train.shape)\n",
    "print ('Test set:', X_test.shape,  y_test.shape)"
   ]
  },
  {
   "cell_type": "code",
   "execution_count": 197,
   "metadata": {},
   "outputs": [
    {
     "data": {
      "text/plain": [
       "SVC(C=1.0, cache_size=200, class_weight=None, coef0=0.0,\n",
       "  decision_function_shape='ovr', degree=3, gamma='auto_deprecated',\n",
       "  kernel='rbf', max_iter=-1, probability=False, random_state=None,\n",
       "  shrinking=True, tol=0.001, verbose=False)"
      ]
     },
     "execution_count": 197,
     "metadata": {},
     "output_type": "execute_result"
    }
   ],
   "source": [
    "from sklearn import svm\n",
    "clf = svm.SVC(kernel='rbf')\n",
    "clf.fit(X_train, y_train) "
   ]
  },
  {
   "cell_type": "code",
   "execution_count": 198,
   "metadata": {},
   "outputs": [
    {
     "data": {
      "text/plain": [
       "array([2, 2, 2, 2, 2])"
      ]
     },
     "execution_count": 198,
     "metadata": {},
     "output_type": "execute_result"
    }
   ],
   "source": [
    "yhat = clf.predict(X_test)\n",
    "yhat [0:5]"
   ]
  },
  {
   "cell_type": "code",
   "execution_count": 199,
   "metadata": {},
   "outputs": [],
   "source": [
    "from sklearn.metrics import classification_report, confusion_matrix\n",
    "import itertools"
   ]
  },
  {
   "cell_type": "code",
   "execution_count": 200,
   "metadata": {},
   "outputs": [],
   "source": [
    "def plot_confusion_matrix(cm, classes,\n",
    "                          normalize=False,\n",
    "                          title='Confusion matrix',\n",
    "                          cmap=plt.cm.Blues):\n",
    "    \"\"\"\n",
    "    This function prints and plots the confusion matrix.\n",
    "    Normalization can be applied by setting `normalize=True`.\n",
    "    \"\"\"\n",
    "    if normalize:\n",
    "        cm = cm.astype('float') / cm.sum(axis=1)[:, np.newaxis]\n",
    "        print(\"Normalized confusion matrix\")\n",
    "    else:\n",
    "        print('Confusion matrix, without normalization')\n",
    "\n",
    "    print(cm)\n",
    "\n",
    "    plt.imshow(cm, interpolation='nearest', cmap=cmap)\n",
    "    plt.title(title)\n",
    "    plt.colorbar()\n",
    "    tick_marks = np.arange(len(classes))\n",
    "    plt.xticks(tick_marks, classes, rotation=45)\n",
    "    plt.yticks(tick_marks, classes)\n",
    "\n",
    "    fmt = '.2f' if normalize else 'd'\n",
    "    thresh = cm.max() / 2.\n",
    "    for i, j in itertools.product(range(cm.shape[0]), range(cm.shape[1])):\n",
    "        plt.text(j, i, format(cm[i, j], fmt),\n",
    "                 horizontalalignment=\"center\",\n",
    "                 color=\"white\" if cm[i, j] > thresh else \"black\")\n",
    "\n",
    "    plt.tight_layout()\n",
    "    plt.ylabel('True label')\n",
    "    plt.xlabel('Predicted label')"
   ]
  },
  {
   "cell_type": "code",
   "execution_count": 201,
   "metadata": {},
   "outputs": [
    {
     "name": "stdout",
     "output_type": "stream",
     "text": [
      "              precision    recall  f1-score   support\n",
      "\n",
      "           0       0.29      0.00      0.00      2344\n",
      "           2       0.54      1.00      0.70      3687\n",
      "           3       0.00      0.00      0.00       769\n",
      "\n",
      "   micro avg       0.54      0.54      0.54      6800\n",
      "   macro avg       0.28      0.33      0.24      6800\n",
      "weighted avg       0.39      0.54      0.38      6800\n",
      "\n",
      "Confusion matrix, without normalization\n",
      "[[3678    0]\n",
      " [   0    0]]\n"
     ]
    },
    {
     "data": {
      "image/png": "[encoded data removed]",
      "text/plain": [
       "<Figure size 432x288 with 2 Axes>"
      ]
     },
     "metadata": {
      "needs_background": "light"
     },
     "output_type": "display_data"
    }
   ],
   "source": [
    "# Compute confusion matrix\n",
    "cnf_matrix = confusion_matrix(y_test, yhat, labels=[2,4])\n",
    "np.set_printoptions(precision=2)\n",
    "\n",
    "print (classification_report(y_test, yhat))\n",
    "\n",
    "# Plot non-normalized confusion matrix\n",
    "plt.figure()\n",
    "plot_confusion_matrix(cnf_matrix, classes=['Benign(2)','Malignant(4)'],normalize= False,  title='Confusion matrix')"
   ]
  },
  {
   "cell_type": "code",
   "execution_count": 202,
   "metadata": {},
   "outputs": [
    {
     "data": {
      "text/plain": [
       "0.382002720647314"
      ]
     },
     "execution_count": 202,
     "metadata": {},
     "output_type": "execute_result"
    }
   ],
   "source": [
    "from sklearn.metrics import f1_score\n",
    "f1_score(y_test, yhat, average='weighted') "
   ]
  },
  {
   "cell_type": "code",
   "execution_count": 203,
   "metadata": {},
   "outputs": [
    {
     "data": {
      "text/plain": [
       "0.5414705882352941"
      ]
     },
     "execution_count": 203,
     "metadata": {},
     "output_type": "execute_result"
    }
   ],
   "source": [
    "from sklearn.metrics import jaccard_similarity_score\n",
    "jaccard_similarity_score(y_test, yhat)"
   ]
  },
  {
   "cell_type": "code",
   "execution_count": 223,
   "metadata": {},
   "outputs": [],
   "source": [
    "df_train.VAR21.replace({0:'Low', 2:'Medium', 3:'High'}, inplace = True)"
   ]
  },
  {
   "cell_type": "code",
   "execution_count": 233,
   "metadata": {},
   "outputs": [
    {
     "data": {
      "text/plain": [
       "0       Low\n",
       "1      High\n",
       "2    Medium\n",
       "3       Low\n",
       "4      High\n",
       "Name: VAR21, dtype: object"
      ]
     },
     "execution_count": 233,
     "metadata": {},
     "output_type": "execute_result"
    }
   ],
   "source": [
    "df_train.VAR21.head()"
   ]
  },
  {
   "cell_type": "code",
   "execution_count": 234,
   "metadata": {},
   "outputs": [],
   "source": [
    "df_l=pd.read_csv('leaderboard_dataset.csv')"
   ]
  },
  {
   "cell_type": "code",
   "execution_count": 235,
   "metadata": {},
   "outputs": [],
   "source": [
    "df_l['VAR2']=df_l['VAR2'].fillna(np.mean(df_l['VAR2']))\n",
    "df_l['VAR3']=df_l['VAR3'].fillna(np.mean(df_l['VAR3']))\n",
    "df_l['VAR4']=df_l['VAR4'].fillna(np.mean(df_l['VAR4']))\n",
    "df_l['VAR5']=df_l['VAR5'].fillna(np.mean(df_l['VAR5']))\n",
    "df_l['VAR6']=df_l['VAR6'].fillna(np.mean(df_l['VAR6']))\n",
    "df_l['VAR7']=df_l['VAR7'].fillna(np.mean(df_l['VAR7']))\n",
    "df_l['VAR8']=df_l['VAR8'].fillna(np.mean(df_l['VAR8']))\n",
    "df_l['VAR9']=df_l['VAR9'].fillna(np.mean(df_l['VAR9']))\n"
   ]
  },
  {
   "cell_type": "code",
   "execution_count": 236,
   "metadata": {},
   "outputs": [],
   "source": [
    "df_l['VAR10']=df_l['VAR10'].fillna(np.mean(df_l['VAR10']))\n",
    "df_l['VAR11']=df_l['VAR11'].fillna(np.mean(df_l['VAR11']))\n",
    "df_l['VAR12']=df_l['VAR12'].fillna(np.mean(df_l['VAR12']))\n",
    "df_l['VAR13']=df_l['VAR13'].fillna(np.mean(df_l['VAR13']))\n",
    "df_l['VAR15']=df_l['VAR15'].fillna(np.mean(df_l['VAR15']))\n",
    "df_l['VAR16']=df_l['VAR16'].fillna(np.mean(df_l['VAR16']))\n",
    "df_l['VAR17']=df_l['VAR17'].fillna(np.mean(df_l['VAR17']))\n",
    "df_l['VAR18']=df_l['VAR18'].fillna(np.mean(df_l['VAR18']))\n",
    "df_l['VAR19']=df_l['VAR19'].fillna(np.mean(df_l['VAR19']))\n",
    "df_l['VAR20']=df_l['VAR20'].fillna(np.mean(df_l['VAR20']))"
   ]
  },
  {
   "cell_type": "code",
   "execution_count": 237,
   "metadata": {},
   "outputs": [],
   "source": [
    "df_l['VAR14']=df_l['VAR14'].fillna(1)"
   ]
  },
  {
   "cell_type": "code",
   "execution_count": 238,
   "metadata": {},
   "outputs": [
    {
     "data": {
      "text/plain": [
       "array([[8.79e+02, 8.33e-01, 8.21e+02, 6.21e+02, 5.18e+00, 8.34e-01,\n",
       "        1.98e+02, 5.30e+01, 5.86e+01, 9.43e+00, 4.00e+01, 1.00e+01,\n",
       "        1.00e+01, 1.21e+00, 1.00e+03, 1.00e+00, 0.00e+00, 4.81e+01],\n",
       "       [8.92e+02, 1.39e-01, 3.57e+02, 6.14e+02, 3.91e+00, 5.95e-01,\n",
       "        1.97e+02, 2.54e+02, 5.86e+01, 1.01e+01, 1.15e+02, 5.67e+00,\n",
       "        7.60e+00, 1.00e+00, 9.93e+02, 0.00e+00, 0.00e+00, 1.04e+02],\n",
       "       [9.55e+02, 5.56e-02, 2.45e+02, 6.12e+02, 6.36e+00, 9.19e-01,\n",
       "        1.98e+02, 2.21e+01, 5.64e+01, 5.83e-01, 1.15e+02, 6.00e+00,\n",
       "        6.00e+00, 1.16e+00, 8.22e+02, 1.00e+00, 1.00e+00, 1.21e+02],\n",
       "       [8.32e+02, 1.11e-01, 2.50e+02, 6.18e+02, 6.55e+00, 2.38e+00,\n",
       "        2.01e+02, 5.30e+01, 4.85e+01, 5.33e+00, 1.15e+02, 1.19e+01,\n",
       "        1.27e+01, 2.35e+00, 8.22e+02, 0.00e+00, 1.00e+00, 1.69e+02],\n",
       "       [9.58e+02, 1.67e-01, 2.45e+02, 6.23e+02, 1.52e+01, 7.11e-01,\n",
       "        1.97e+02, 5.01e+00, 4.94e+01, 2.56e-01, 1.15e+02, 1.33e+01,\n",
       "        1.33e+01, 1.17e+00, 8.22e+02, 0.00e+00, 1.00e+00, 1.09e+02]])"
      ]
     },
     "execution_count": 238,
     "metadata": {},
     "output_type": "execute_result"
    }
   ],
   "source": [
    "feature_df1 = df_l[['VAR2', 'VAR3', 'VAR4', 'VAR5', 'VAR6', 'VAR7', 'VAR8', 'VAR9', 'VAR10', 'VAR11', 'VAR12', 'VAR13', 'VAR15', 'VAR16', 'VAR17', 'VAR18', 'VAR19', 'VAR20']]\n",
    "X1 = np.asarray(feature_df1)\n",
    "X1[0:5]"
   ]
  },
  {
   "cell_type": "code",
   "execution_count": 245,
   "metadata": {},
   "outputs": [],
   "source": [
    "val = clf.predict(X1)"
   ]
  },
  {
   "cell_type": "code",
   "execution_count": 249,
   "metadata": {
    "scrolled": true
   },
   "outputs": [
    {
     "data": {
      "text/html": [
       "<div>\n",
       "<style scoped>\n",
       "    .dataframe tbody tr th:only-of-type {\n",
       "        vertical-align: middle;\n",
       "    }\n",
       "\n",
       "    .dataframe tbody tr th {\n",
       "        vertical-align: top;\n",
       "    }\n",
       "\n",
       "    .dataframe thead th {\n",
       "        text-align: right;\n",
       "    }\n",
       "</style>\n",
       "<table border=\"1\" class=\"dataframe\">\n",
       "  <thead>\n",
       "    <tr style=\"text-align: right;\">\n",
       "      <th></th>\n",
       "      <th>0</th>\n",
       "    </tr>\n",
       "  </thead>\n",
       "  <tbody>\n",
       "    <tr>\n",
       "      <th>0</th>\n",
       "      <td>Medium</td>\n",
       "    </tr>\n",
       "    <tr>\n",
       "      <th>1</th>\n",
       "      <td>Medium</td>\n",
       "    </tr>\n",
       "    <tr>\n",
       "      <th>2</th>\n",
       "      <td>Medium</td>\n",
       "    </tr>\n",
       "    <tr>\n",
       "      <th>3</th>\n",
       "      <td>Medium</td>\n",
       "    </tr>\n",
       "    <tr>\n",
       "      <th>4</th>\n",
       "      <td>Medium</td>\n",
       "    </tr>\n",
       "    <tr>\n",
       "      <th>5</th>\n",
       "      <td>Medium</td>\n",
       "    </tr>\n",
       "    <tr>\n",
       "      <th>6</th>\n",
       "      <td>Medium</td>\n",
       "    </tr>\n",
       "    <tr>\n",
       "      <th>7</th>\n",
       "      <td>Medium</td>\n",
       "    </tr>\n",
       "    <tr>\n",
       "      <th>8</th>\n",
       "      <td>Medium</td>\n",
       "    </tr>\n",
       "    <tr>\n",
       "      <th>9</th>\n",
       "      <td>Medium</td>\n",
       "    </tr>\n",
       "    <tr>\n",
       "      <th>10</th>\n",
       "      <td>Medium</td>\n",
       "    </tr>\n",
       "    <tr>\n",
       "      <th>11</th>\n",
       "      <td>Medium</td>\n",
       "    </tr>\n",
       "    <tr>\n",
       "      <th>12</th>\n",
       "      <td>Medium</td>\n",
       "    </tr>\n",
       "    <tr>\n",
       "      <th>13</th>\n",
       "      <td>Medium</td>\n",
       "    </tr>\n",
       "    <tr>\n",
       "      <th>14</th>\n",
       "      <td>Medium</td>\n",
       "    </tr>\n",
       "    <tr>\n",
       "      <th>15</th>\n",
       "      <td>Medium</td>\n",
       "    </tr>\n",
       "    <tr>\n",
       "      <th>16</th>\n",
       "      <td>Medium</td>\n",
       "    </tr>\n",
       "    <tr>\n",
       "      <th>17</th>\n",
       "      <td>Medium</td>\n",
       "    </tr>\n",
       "    <tr>\n",
       "      <th>18</th>\n",
       "      <td>Medium</td>\n",
       "    </tr>\n",
       "    <tr>\n",
       "      <th>19</th>\n",
       "      <td>Medium</td>\n",
       "    </tr>\n",
       "    <tr>\n",
       "      <th>20</th>\n",
       "      <td>Medium</td>\n",
       "    </tr>\n",
       "    <tr>\n",
       "      <th>21</th>\n",
       "      <td>Medium</td>\n",
       "    </tr>\n",
       "    <tr>\n",
       "      <th>22</th>\n",
       "      <td>Medium</td>\n",
       "    </tr>\n",
       "    <tr>\n",
       "      <th>23</th>\n",
       "      <td>Medium</td>\n",
       "    </tr>\n",
       "    <tr>\n",
       "      <th>24</th>\n",
       "      <td>Medium</td>\n",
       "    </tr>\n",
       "    <tr>\n",
       "      <th>25</th>\n",
       "      <td>Medium</td>\n",
       "    </tr>\n",
       "    <tr>\n",
       "      <th>26</th>\n",
       "      <td>Medium</td>\n",
       "    </tr>\n",
       "    <tr>\n",
       "      <th>27</th>\n",
       "      <td>Medium</td>\n",
       "    </tr>\n",
       "    <tr>\n",
       "      <th>28</th>\n",
       "      <td>Medium</td>\n",
       "    </tr>\n",
       "    <tr>\n",
       "      <th>29</th>\n",
       "      <td>Medium</td>\n",
       "    </tr>\n",
       "    <tr>\n",
       "      <th>...</th>\n",
       "      <td>...</td>\n",
       "    </tr>\n",
       "    <tr>\n",
       "      <th>9970</th>\n",
       "      <td>Medium</td>\n",
       "    </tr>\n",
       "    <tr>\n",
       "      <th>9971</th>\n",
       "      <td>Medium</td>\n",
       "    </tr>\n",
       "    <tr>\n",
       "      <th>9972</th>\n",
       "      <td>Medium</td>\n",
       "    </tr>\n",
       "    <tr>\n",
       "      <th>9973</th>\n",
       "      <td>Medium</td>\n",
       "    </tr>\n",
       "    <tr>\n",
       "      <th>9974</th>\n",
       "      <td>Medium</td>\n",
       "    </tr>\n",
       "    <tr>\n",
       "      <th>9975</th>\n",
       "      <td>Medium</td>\n",
       "    </tr>\n",
       "    <tr>\n",
       "      <th>9976</th>\n",
       "      <td>Medium</td>\n",
       "    </tr>\n",
       "    <tr>\n",
       "      <th>9977</th>\n",
       "      <td>Medium</td>\n",
       "    </tr>\n",
       "    <tr>\n",
       "      <th>9978</th>\n",
       "      <td>Medium</td>\n",
       "    </tr>\n",
       "    <tr>\n",
       "      <th>9979</th>\n",
       "      <td>Medium</td>\n",
       "    </tr>\n",
       "    <tr>\n",
       "      <th>9980</th>\n",
       "      <td>Medium</td>\n",
       "    </tr>\n",
       "    <tr>\n",
       "      <th>9981</th>\n",
       "      <td>Medium</td>\n",
       "    </tr>\n",
       "    <tr>\n",
       "      <th>9982</th>\n",
       "      <td>Medium</td>\n",
       "    </tr>\n",
       "    <tr>\n",
       "      <th>9983</th>\n",
       "      <td>Medium</td>\n",
       "    </tr>\n",
       "    <tr>\n",
       "      <th>9984</th>\n",
       "      <td>Medium</td>\n",
       "    </tr>\n",
       "    <tr>\n",
       "      <th>9985</th>\n",
       "      <td>Medium</td>\n",
       "    </tr>\n",
       "    <tr>\n",
       "      <th>9986</th>\n",
       "      <td>Medium</td>\n",
       "    </tr>\n",
       "    <tr>\n",
       "      <th>9987</th>\n",
       "      <td>Medium</td>\n",
       "    </tr>\n",
       "    <tr>\n",
       "      <th>9988</th>\n",
       "      <td>Medium</td>\n",
       "    </tr>\n",
       "    <tr>\n",
       "      <th>9989</th>\n",
       "      <td>Medium</td>\n",
       "    </tr>\n",
       "    <tr>\n",
       "      <th>9990</th>\n",
       "      <td>Medium</td>\n",
       "    </tr>\n",
       "    <tr>\n",
       "      <th>9991</th>\n",
       "      <td>Medium</td>\n",
       "    </tr>\n",
       "    <tr>\n",
       "      <th>9992</th>\n",
       "      <td>Medium</td>\n",
       "    </tr>\n",
       "    <tr>\n",
       "      <th>9993</th>\n",
       "      <td>Medium</td>\n",
       "    </tr>\n",
       "    <tr>\n",
       "      <th>9994</th>\n",
       "      <td>Medium</td>\n",
       "    </tr>\n",
       "    <tr>\n",
       "      <th>9995</th>\n",
       "      <td>Medium</td>\n",
       "    </tr>\n",
       "    <tr>\n",
       "      <th>9996</th>\n",
       "      <td>Medium</td>\n",
       "    </tr>\n",
       "    <tr>\n",
       "      <th>9997</th>\n",
       "      <td>Medium</td>\n",
       "    </tr>\n",
       "    <tr>\n",
       "      <th>9998</th>\n",
       "      <td>Medium</td>\n",
       "    </tr>\n",
       "    <tr>\n",
       "      <th>9999</th>\n",
       "      <td>Medium</td>\n",
       "    </tr>\n",
       "  </tbody>\n",
       "</table>\n",
       "<p>10000 rows × 1 columns</p>\n",
       "</div>"
      ],
      "text/plain": [
       "           0\n",
       "0     Medium\n",
       "1     Medium\n",
       "2     Medium\n",
       "3     Medium\n",
       "4     Medium\n",
       "5     Medium\n",
       "6     Medium\n",
       "7     Medium\n",
       "8     Medium\n",
       "9     Medium\n",
       "10    Medium\n",
       "11    Medium\n",
       "12    Medium\n",
       "13    Medium\n",
       "14    Medium\n",
       "15    Medium\n",
       "16    Medium\n",
       "17    Medium\n",
       "18    Medium\n",
       "19    Medium\n",
       "20    Medium\n",
       "21    Medium\n",
       "22    Medium\n",
       "23    Medium\n",
       "24    Medium\n",
       "25    Medium\n",
       "26    Medium\n",
       "27    Medium\n",
       "28    Medium\n",
       "29    Medium\n",
       "...      ...\n",
       "9970  Medium\n",
       "9971  Medium\n",
       "9972  Medium\n",
       "9973  Medium\n",
       "9974  Medium\n",
       "9975  Medium\n",
       "9976  Medium\n",
       "9977  Medium\n",
       "9978  Medium\n",
       "9979  Medium\n",
       "9980  Medium\n",
       "9981  Medium\n",
       "9982  Medium\n",
       "9983  Medium\n",
       "9984  Medium\n",
       "9985  Medium\n",
       "9986  Medium\n",
       "9987  Medium\n",
       "9988  Medium\n",
       "9989  Medium\n",
       "9990  Medium\n",
       "9991  Medium\n",
       "9992  Medium\n",
       "9993  Medium\n",
       "9994  Medium\n",
       "9995  Medium\n",
       "9996  Medium\n",
       "9997  Medium\n",
       "9998  Medium\n",
       "9999  Medium\n",
       "\n",
       "[10000 rows x 1 columns]"
      ]
     },
     "execution_count": 249,
     "metadata": {},
     "output_type": "execute_result"
    }
   ],
   "source": [
    "df = pd.DataFrame(data=val.flatten())\n",
    "\n",
    "df.replace({0:'Low', 2:'Medium', 3:'High'}, inplace = True)\n"
   ]
  },
  {
   "cell_type": "code",
   "execution_count": 251,
   "metadata": {},
   "outputs": [],
   "source": [
    "value1=df[0]"
   ]
  },
  {
   "cell_type": "code",
   "execution_count": 252,
   "metadata": {
    "scrolled": true
   },
   "outputs": [
    {
     "data": {
      "text/plain": [
       "0       Medium\n",
       "1       Medium\n",
       "2       Medium\n",
       "3       Medium\n",
       "4       Medium\n",
       "5       Medium\n",
       "6       Medium\n",
       "7       Medium\n",
       "8       Medium\n",
       "9       Medium\n",
       "10      Medium\n",
       "11      Medium\n",
       "12      Medium\n",
       "13      Medium\n",
       "14      Medium\n",
       "15      Medium\n",
       "16      Medium\n",
       "17      Medium\n",
       "18      Medium\n",
       "19      Medium\n",
       "20      Medium\n",
       "21      Medium\n",
       "22      Medium\n",
       "23      Medium\n",
       "24      Medium\n",
       "25      Medium\n",
       "26      Medium\n",
       "27      Medium\n",
       "28      Medium\n",
       "29      Medium\n",
       "         ...  \n",
       "9970    Medium\n",
       "9971    Medium\n",
       "9972    Medium\n",
       "9973    Medium\n",
       "9974    Medium\n",
       "9975    Medium\n",
       "9976    Medium\n",
       "9977    Medium\n",
       "9978    Medium\n",
       "9979    Medium\n",
       "9980    Medium\n",
       "9981    Medium\n",
       "9982    Medium\n",
       "9983    Medium\n",
       "9984    Medium\n",
       "9985    Medium\n",
       "9986    Medium\n",
       "9987    Medium\n",
       "9988    Medium\n",
       "9989    Medium\n",
       "9990    Medium\n",
       "9991    Medium\n",
       "9992    Medium\n",
       "9993    Medium\n",
       "9994    Medium\n",
       "9995    Medium\n",
       "9996    Medium\n",
       "9997    Medium\n",
       "9998    Medium\n",
       "9999    Medium\n",
       "Name: 0, Length: 10000, dtype: object"
      ]
     },
     "execution_count": 252,
     "metadata": {},
     "output_type": "execute_result"
    }
   ],
   "source": [
    "value1"
   ]
  },
  {
   "cell_type": "code",
   "execution_count": 253,
   "metadata": {},
   "outputs": [],
   "source": [
    "index=np.arange(1,10001)\n",
    "data123563=pd.DataFrame(data=value1,index=index)\n",
    "data123563.to_csv('Homelanders_IITGuwahati_9.csv',header=None)"
   ]
  },
  {
   "cell_type": "code",
   "execution_count": 255,
   "metadata": {},
   "outputs": [],
   "source": [
    "df_t=pd.read_csv('Evaluation_dataset.csv')"
   ]
  },
  {
   "cell_type": "code",
   "execution_count": 257,
   "metadata": {},
   "outputs": [],
   "source": [
    "df_t['VAR2']=df_l['VAR2'].fillna(np.mean(df_t['VAR2']))\n",
    "df_t['VAR3']=df_l['VAR3'].fillna(np.mean(df_t['VAR3']))\n",
    "df_t['VAR4']=df_l['VAR4'].fillna(np.mean(df_t['VAR4']))\n",
    "df_t['VAR5']=df_l['VAR5'].fillna(np.mean(df_t['VAR5']))\n",
    "df_t['VAR6']=df_l['VAR6'].fillna(np.mean(df_t['VAR6']))\n",
    "df_t['VAR7']=df_l['VAR7'].fillna(np.mean(df_t['VAR7']))\n",
    "df_t['VAR8']=df_l['VAR8'].fillna(np.mean(df_t['VAR8']))\n",
    "df_t['VAR9']=df_l['VAR9'].fillna(np.mean(df_t['VAR9']))\n"
   ]
  },
  {
   "cell_type": "code",
   "execution_count": 258,
   "metadata": {},
   "outputs": [],
   "source": [
    "df_t['VAR10']=df_l['VAR10'].fillna(np.mean(df_t['VAR10']))\n",
    "df_t['VAR11']=df_l['VAR11'].fillna(np.mean(df_t['VAR11']))\n",
    "df_t['VAR12']=df_l['VAR12'].fillna(np.mean(df_t['VAR12']))\n",
    "df_t['VAR13']=df_l['VAR13'].fillna(np.mean(df_t['VAR13']))\n",
    "df_t['VAR15']=df_l['VAR15'].fillna(np.mean(df_t['VAR15']))\n",
    "df_t['VAR16']=df_l['VAR16'].fillna(np.mean(df_t['VAR16']))\n",
    "df_t['VAR17']=df_l['VAR17'].fillna(np.mean(df_t['VAR17']))\n",
    "df_t['VAR18']=df_l['VAR18'].fillna(np.mean(df_t['VAR18']))\n",
    "df_t['VAR19']=df_l['VAR19'].fillna(np.mean(df_t['VAR19']))\n",
    "df_t['VAR20']=df_l['VAR20'].fillna(np.mean(df_t['VAR20']))"
   ]
  },
  {
   "cell_type": "code",
   "execution_count": 259,
   "metadata": {},
   "outputs": [],
   "source": [
    "df_t['VAR14']=df_t['VAR14'].fillna(1)"
   ]
  },
  {
   "cell_type": "code",
   "execution_count": 260,
   "metadata": {},
   "outputs": [
    {
     "data": {
      "text/plain": [
       "array([[8.79e+02, 8.33e-01, 8.21e+02, 6.21e+02, 5.18e+00, 8.34e-01,\n",
       "        1.98e+02, 5.30e+01, 5.86e+01, 9.43e+00, 4.00e+01, 1.00e+01,\n",
       "        1.00e+01, 1.21e+00, 1.00e+03, 1.00e+00, 0.00e+00, 4.81e+01],\n",
       "       [8.92e+02, 1.39e-01, 3.57e+02, 6.14e+02, 3.91e+00, 5.95e-01,\n",
       "        1.97e+02, 2.54e+02, 5.86e+01, 1.01e+01, 1.15e+02, 5.67e+00,\n",
       "        7.60e+00, 1.00e+00, 9.93e+02, 0.00e+00, 0.00e+00, 1.04e+02],\n",
       "       [9.55e+02, 5.56e-02, 2.45e+02, 6.12e+02, 6.36e+00, 9.19e-01,\n",
       "        1.98e+02, 2.21e+01, 5.64e+01, 5.83e-01, 1.15e+02, 6.00e+00,\n",
       "        6.00e+00, 1.16e+00, 8.22e+02, 1.00e+00, 1.00e+00, 1.21e+02],\n",
       "       [8.32e+02, 1.11e-01, 2.50e+02, 6.18e+02, 6.55e+00, 2.38e+00,\n",
       "        2.01e+02, 5.30e+01, 4.85e+01, 5.33e+00, 1.15e+02, 1.19e+01,\n",
       "        1.27e+01, 2.35e+00, 8.22e+02, 0.00e+00, 1.00e+00, 1.69e+02],\n",
       "       [9.58e+02, 1.67e-01, 2.45e+02, 6.23e+02, 1.52e+01, 7.11e-01,\n",
       "        1.97e+02, 5.01e+00, 4.94e+01, 2.56e-01, 1.15e+02, 1.33e+01,\n",
       "        1.33e+01, 1.17e+00, 8.22e+02, 0.00e+00, 1.00e+00, 1.09e+02]])"
      ]
     },
     "execution_count": 260,
     "metadata": {},
     "output_type": "execute_result"
    }
   ],
   "source": [
    "feature_df2 = df_t[['VAR2', 'VAR3', 'VAR4', 'VAR5', 'VAR6', 'VAR7', 'VAR8', 'VAR9', 'VAR10', 'VAR11', 'VAR12', 'VAR13', 'VAR15', 'VAR16', 'VAR17', 'VAR18', 'VAR19', 'VAR20']]\n",
    "X2 = np.asarray(feature_df2)\n",
    "X2[0:5]"
   ]
  },
  {
   "cell_type": "code",
   "execution_count": 261,
   "metadata": {},
   "outputs": [],
   "source": [
    "val1 = clf.predict(X2)"
   ]
  },
  {
   "cell_type": "code",
   "execution_count": 262,
   "metadata": {},
   "outputs": [],
   "source": [
    "df = pd.DataFrame(data=val.flatten())\n",
    "\n",
    "df.replace({0:'Low', 2:'Medium', 3:'High'}, inplace = True)\n"
   ]
  },
  {
   "cell_type": "code",
   "execution_count": 264,
   "metadata": {},
   "outputs": [],
   "source": [
    "value2=df[0]"
   ]
  },
  {
   "cell_type": "code",
   "execution_count": 265,
   "metadata": {
    "scrolled": true
   },
   "outputs": [
    {
     "data": {
      "text/plain": [
       "0       Medium\n",
       "1       Medium\n",
       "2       Medium\n",
       "3       Medium\n",
       "4       Medium\n",
       "5       Medium\n",
       "6       Medium\n",
       "7       Medium\n",
       "8       Medium\n",
       "9       Medium\n",
       "10      Medium\n",
       "11      Medium\n",
       "12      Medium\n",
       "13      Medium\n",
       "14      Medium\n",
       "15      Medium\n",
       "16      Medium\n",
       "17      Medium\n",
       "18      Medium\n",
       "19      Medium\n",
       "20      Medium\n",
       "21      Medium\n",
       "22      Medium\n",
       "23      Medium\n",
       "24      Medium\n",
       "25      Medium\n",
       "26      Medium\n",
       "27      Medium\n",
       "28      Medium\n",
       "29      Medium\n",
       "         ...  \n",
       "9970    Medium\n",
       "9971    Medium\n",
       "9972    Medium\n",
       "9973    Medium\n",
       "9974    Medium\n",
       "9975    Medium\n",
       "9976    Medium\n",
       "9977    Medium\n",
       "9978    Medium\n",
       "9979    Medium\n",
       "9980    Medium\n",
       "9981    Medium\n",
       "9982    Medium\n",
       "9983    Medium\n",
       "9984    Medium\n",
       "9985    Medium\n",
       "9986    Medium\n",
       "9987    Medium\n",
       "9988    Medium\n",
       "9989    Medium\n",
       "9990    Medium\n",
       "9991    Medium\n",
       "9992    Medium\n",
       "9993    Medium\n",
       "9994    Medium\n",
       "9995    Medium\n",
       "9996    Medium\n",
       "9997    Medium\n",
       "9998    Medium\n",
       "9999    Medium\n",
       "Name: 0, Length: 10000, dtype: object"
      ]
     },
     "execution_count": 265,
     "metadata": {},
     "output_type": "execute_result"
    }
   ],
   "source": [
    "value2"
   ]
  },
  {
   "cell_type": "code",
   "execution_count": 267,
   "metadata": {},
   "outputs": [],
   "source": [
    "index=np.arange(1,10001)\n",
    "data123563=pd.DataFrame(data=value2,index=index)\n",
    "data123563.to_csv('Homelanders_IITGuwahati.csv',header=None)"
   ]
  },
  {
   "cell_type": "code",
   "execution_count": null,
   "metadata": {},
   "outputs": [],
   "source": []
  }
 ],
 "metadata": {
  "kernelspec": {
   "display_name": "Python 3",
   "language": "python",
   "name": "python3"
  },
  "language_info": {
   "codemirror_mode": {
    "name": "ipython",
    "version": 3
   },
   "file_extension": ".py",
   "mimetype": "text/x-python",
   "name": "python",
   "nbconvert_exporter": "python",
   "pygments_lexer": "ipython3",
   "version": "3.7.3"
  }
 },
 "nbformat": 4,
 "nbformat_minor": 2
}
